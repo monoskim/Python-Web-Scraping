{
  "nbformat": 4,
  "nbformat_minor": 0,
  "metadata": {
    "colab": {
      "name": "BS4 Job Post Tracking.ipynb",
      "provenance": [],
      "collapsed_sections": [],
      "authorship_tag": "ABX9TyP7DfojfllIi1CQubk27H8a",
      "include_colab_link": true
    },
    "kernelspec": {
      "name": "python3",
      "display_name": "Python 3"
    },
    "language_info": {
      "name": "python"
    }
  },
  "cells": [
    {
      "cell_type": "markdown",
      "metadata": {
        "id": "view-in-github",
        "colab_type": "text"
      },
      "source": [
        "<a href=\"https://colab.research.google.com/github/monoskim/Python-Web-Scraping/blob/main/BS4_Job_Post_Tracking.ipynb\" target=\"_parent\"><img src=\"https://colab.research.google.com/assets/colab-badge.svg\" alt=\"Open In Colab\"/></a>"
      ]
    },
    {
      "cell_type": "code",
      "metadata": {
        "id": "5DgCz5S3Qsx0"
      },
      "source": [
        "from bs4 import BeautifulSoup\n",
        "import requests \n",
        "import numpy as np\n",
        "import sqlite3"
      ],
      "execution_count": null,
      "outputs": []
    },
    {
      "cell_type": "code",
      "metadata": {
        "id": "gWip4hK9TmyA"
      },
      "source": [
        "html_text = requests.get('https://boweryfarming.com/careers/#section-job-listings').text\n",
        "soup = BeautifulSoup(html_text)\n",
        "jobs = soup.find_all('div', class_ = 'c-section-job-listings__job-title')\n",
        "job_titles = []\n",
        "for job in jobs:\n",
        "  x = job.find('h6', class_ = 'h6-sans-serif').text\n",
        "  job_titles.append(x)"
      ],
      "execution_count": null,
      "outputs": []
    },
    {
      "cell_type": "code",
      "metadata": {
        "id": "Dchyi02cjdbJ"
      },
      "source": [
        "conn = sqlite3.connect(':memory:')\n",
        "c = conn.cursor()\n",
        "\n",
        "##c.execute('''\n",
        "##    DROP TABLE IF EXISTS jobs\n",
        "##''')\n",
        "##conn.commit()\n",
        "\n",
        "c.execute('''\n",
        "    CREATE TABLE IF NOT EXISTS jobs(job_title text, date text)\n",
        "''')\n",
        "conn.commit()"
      ],
      "execution_count": null,
      "outputs": []
    },
    {
      "cell_type": "code",
      "metadata": {
        "id": "KoxcgV5fu5d4"
      },
      "source": [
        "c.executemany(\"INSERT INTO jobs('job_title', 'date') VALUES(?,CURRENT_TIMESTAMP)\", zip(job_titles))\n",
        "conn.commit()"
      ],
      "execution_count": null,
      "outputs": []
    },
    {
      "cell_type": "code",
      "metadata": {
        "colab": {
          "base_uri": "https://localhost:8080/"
        },
        "id": "btdPi3Bc2PDL",
        "outputId": "18974d1f-90a9-48d8-ab59-440f7b92d330"
      },
      "source": [
        "c.execute(\"SELECT * FROM jobs\")\n",
        "x = np.array(c.fetchall())\n",
        "x"
      ],
      "execution_count": null,
      "outputs": [
        {
          "output_type": "execute_result",
          "data": {
            "text/plain": [
              "array([['Administrative Coordinator', '2021-08-18 06:10:34'],\n",
              "       ['Agricultural Systems Manager', '2021-08-18 06:10:34'],\n",
              "       ['Analytics Engineer', '2021-08-18 06:10:34'],\n",
              "       ['Assistant Breeder', '2021-08-18 06:10:34'],\n",
              "       ['Associate Creative Director', '2021-08-18 06:10:34'],\n",
              "       ['Chief of Staff to CEO', '2021-08-18 06:10:34'],\n",
              "       ['Controls Engineer – Robotics & Automation',\n",
              "        '2021-08-18 06:10:34'],\n",
              "       ['Design Engineer', '2021-08-18 06:10:34'],\n",
              "       ['Design Engineer (MEP )', '2021-08-18 06:10:34'],\n",
              "       ['Design Engineer (MHE & Electrical)', '2021-08-18 06:10:34'],\n",
              "       ['Director of Capital Markets', '2021-08-18 06:10:34'],\n",
              "       ['Director of Financial Systems', '2021-08-18 06:10:34'],\n",
              "       ['Director Software Engineering', '2021-08-18 06:10:34'],\n",
              "       ['Director, Farm Build & Launch', '2021-08-18 06:10:34'],\n",
              "       ['Farm Automation Technician (Night Shift)',\n",
              "        '2021-08-18 06:10:34'],\n",
              "       ['Farm Production Operator', '2021-08-18 06:10:34'],\n",
              "       ['Head of Strategy', '2021-08-18 06:10:34'],\n",
              "       ['Industrial Engineer', '2021-08-18 06:10:34'],\n",
              "       ['Maintenance Technician', '2021-08-18 06:10:34'],\n",
              "       ['Market Development Representative', '2021-08-18 06:10:34'],\n",
              "       ['Mechanical Design Engineer', '2021-08-18 06:10:34'],\n",
              "       ['Operations Supervisor', '2021-08-18 06:10:34'],\n",
              "       ['Product Designer', '2021-08-18 06:10:34'],\n",
              "       ['Product Manager', '2021-08-18 06:10:34'],\n",
              "       ['Product Manager – Automation', '2021-08-18 06:10:34'],\n",
              "       ['Production Associate – New Jersey', '2021-08-18 06:10:34'],\n",
              "       ['Production Associate (Modern Farmer)', '2021-08-18 06:10:34'],\n",
              "       ['Production Associate (Night Shift)', '2021-08-18 06:10:34'],\n",
              "       ['Project Manager – R&D', '2021-08-18 06:10:34'],\n",
              "       ['Project Manager, Farm Build & Launch', '2021-08-18 06:10:34'],\n",
              "       ['Quality & Consumer Safety Manager', '2021-08-18 06:10:34'],\n",
              "       ['Quality Control & Safety Associate', '2021-08-18 06:10:34'],\n",
              "       ['R&D Farm Operator', '2021-08-18 06:10:34'],\n",
              "       ['Recruiting Coordinator', '2021-08-18 06:10:34'],\n",
              "       ['Regional Asset Care & Reliability Director',\n",
              "        '2021-08-18 06:10:34'],\n",
              "       ['Robotics Engineer', '2021-08-18 06:10:34'],\n",
              "       ['Senior Controls Engineer', '2021-08-18 06:10:34'],\n",
              "       ['Senior Director of Communications', '2021-08-18 06:10:34'],\n",
              "       ['Senior HR Business Partner – HQ', '2021-08-18 06:10:34'],\n",
              "       ['Senior Manager of Supply Chain, Indirect Procurement',\n",
              "        '2021-08-18 06:10:34'],\n",
              "       ['Senior Media Manager', '2021-08-18 06:10:34'],\n",
              "       ['Senior Sales Analytics Manager', '2021-08-18 06:10:34'],\n",
              "       ['Senior Software Engineer', '2021-08-18 06:10:34'],\n",
              "       ['Senior Software Engineering Manager', '2021-08-18 06:10:34'],\n",
              "       ['Software Engineer', '2021-08-18 06:10:34'],\n",
              "       ['Software Engineer (Elixir)', '2021-08-18 06:10:34'],\n",
              "       ['Software Engineer (Mid-level)', '2021-08-18 06:10:34'],\n",
              "       ['Software Engineer, Data', '2021-08-18 06:10:34'],\n",
              "       ['Staff Software Engineer', '2021-08-18 06:10:34'],\n",
              "       ['Talent Acquisition Specialist', '2021-08-18 06:10:34'],\n",
              "       ['Talent Network', '2021-08-18 06:10:34'],\n",
              "       ['Technical Program Manager', '2021-08-18 06:10:34'],\n",
              "       ['VP of Marketing', '2021-08-18 06:10:34'],\n",
              "       ['Warehouse Associate', '2021-08-18 06:10:34'],\n",
              "       ['Warehouse Associate (Modern Farmer)', '2021-08-18 06:10:34'],\n",
              "       ['Warehouse Team Lead', '2021-08-18 06:10:34']], dtype='<U52')"
            ]
          },
          "metadata": {
            "tags": []
          },
          "execution_count": 186
        }
      ]
    },
    {
      "cell_type": "code",
      "metadata": {
        "id": "5szcnxhk3eh-"
      },
      "source": [
        ""
      ],
      "execution_count": null,
      "outputs": []
    }
  ]
}